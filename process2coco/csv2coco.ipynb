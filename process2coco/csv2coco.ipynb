{
 "cells": [
  {
   "cell_type": "markdown",
   "metadata": {},
   "source": [
    "*** IMPORTANT *** \n",
    "This code was written for training purposes. The code is shared only for knowledge sharing purposes. The code should not be used in any production environments."
   ]
  },
  {
   "cell_type": "markdown",
   "metadata": {},
   "source": [
    "## Create a coco dataset from a csv file with x,y coordinates of the segment polygon.\n",
    "\n",
    "\n",
    "You can run this notebook to generate the coco json format for a dataset in that has `x.y` coordinates for the mask. \n",
    "\n",
    "Then you can run the viwer.ipynb notebook to visualize the coco annotations. \n",
    "\n",
    "This code is based on the git repo https://github.com/Tony607/voc2coco"
   ]
  },
  {
   "cell_type": "code",
   "execution_count": null,
   "metadata": {},
   "outputs": [],
   "source": [
    "import cv2\n",
    "from matplotlib import pyplot as plt\n",
    "import pandas as pd\n",
    "import os\n",
    "import json\n",
    "import glob\n",
    "\n",
    "START_BOUNDING_BOX_ID = 1\n",
    "PRE_DEFINE_CATEGORIES = {\"cavity\":0}"
   ]
  },
  {
   "cell_type": "code",
   "execution_count": null,
   "metadata": {},
   "outputs": [],
   "source": [
    "def get_df(fpath):\n",
    "    annotation_csv = pd.read_csv(f'{fpath}', header=None)\n",
    "#     annotation_csv.head(5)\n",
    "    return annotation_csv\n",
    "# annotation_csv.to_numpy().flatten().tolist()"
   ]
  },
  {
   "cell_type": "code",
   "execution_count": null,
   "metadata": {},
   "outputs": [],
   "source": [
    "# This method gets the segmentation for polyons. It should not be used to return RLE values because the assumption is\n",
    "# the annotated data does not contain crowds instead contain individual elements.\n",
    "\n",
    "def get_segmentation(df):\n",
    "    segmentations = []\n",
    "#     segs = list(map(int, annotation_csv.to_numpy().flatten().tolist())) \n",
    "    segs = df.to_numpy().flatten().tolist()\n",
    "    segmentations.append(segs)\n",
    "#     print(segmentations)\n",
    "    return segmentations"
   ]
  },
  {
   "cell_type": "code",
   "execution_count": null,
   "metadata": {},
   "outputs": [],
   "source": [
    "def get_image(csv_file):\n",
    "#     print(csv_file)\n",
    "    name = csv_file.split('/')[-1].split('.')[0].split('frame')\n",
    "    folder_path = name[0].rstrip('_')\n",
    "    filename =  'frame'+name[1]+'.jpg'\n",
    "    img_path = '../../opencv-tutorial/data/split_data/'+folder_path+'/'+filename\n",
    "    image = cv2.imread(f'{img_path}')\n",
    "#     cv2.imwrite(f'./test-data/csv/{folder_path}_{filename}', image)\n",
    "    return filename, folder_path, image\n",
    "    "
   ]
  },
  {
   "cell_type": "code",
   "execution_count": null,
   "metadata": {},
   "outputs": [],
   "source": [
    "def convert(csv_files, json_output):\n",
    "    \n",
    "    json_dict = {\"images\": [], \"type\": \"instances\", \"annotations\": [], \"categories\": []}\n",
    "    \n",
    "    image_id_counter = 0\n",
    "    \n",
    "    if PRE_DEFINE_CATEGORIES is not None:\n",
    "        categories = PRE_DEFINE_CATEGORIES\n",
    "    else:\n",
    "        print(\"You must define the category\")\n",
    "        return None\n",
    "    \n",
    "    bnd_id = START_BOUNDING_BOX_ID\n",
    "    \n",
    "    for indx, csv_file in enumerate(csv_files):\n",
    "        category_id = PRE_DEFINE_CATEGORIES[\"cavity\"] \n",
    "        image_id = image_id_counter\n",
    "        \n",
    "        \n",
    "        filename, folder_path, img = get_image(csv_file)\n",
    "        annotation_csv = pd.read_csv(f'{csv_file}', header=None)\n",
    "\n",
    "        \n",
    "        height = img.shape[0]\n",
    "        width = img.shape[1]\n",
    "        channels = img.shape[2]\n",
    "        image = {\n",
    "            \"file_name\": folder_path+'_'+filename,\n",
    "            \"height\": height,\n",
    "            \"width\": width,\n",
    "            \"id\": image_id,  # TODO This id is not universal.\n",
    "        }\n",
    "        json_dict[\"images\"].append(image)\n",
    "        \n",
    "        xmin = int(annotation_csv.min(0)[0]) - 1\n",
    "        ymin = int(annotation_csv.min(0)[1]) - 1\n",
    "        xmax = int(annotation_csv.max(0)[0]) + 1\n",
    "        ymax = int(annotation_csv.max(0)[1]) + 1\n",
    "        assert xmax > xmin\n",
    "        assert ymax > ymin\n",
    "        o_width = abs(xmax - xmin)\n",
    "        o_height = abs(ymax - ymin)\n",
    "        o_segmentation = get_segmentation(annotation_csv)\n",
    "\n",
    "        if len(o_segmentation) > 0:\n",
    "            ann = {\n",
    "                \"area\": o_width * o_height,\n",
    "                \"iscrowd\": 0,\n",
    "                \"image_id\": image_id,\n",
    "                \"bbox\": [xmin, ymin, o_width, o_height],\n",
    "                \"category_id\": category_id,\n",
    "                \"id\": bnd_id,\n",
    "                \"ignore\": 0,\n",
    "                \"segmentation\": o_segmentation,\n",
    "            }\n",
    "            json_dict[\"annotations\"].append(ann)\n",
    "#             bnd_id = bnd_id + 1\n",
    "        image_id_counter = image_id_counter + 1\n",
    "            \n",
    "    for cate, cid in categories.items():\n",
    "        cat = {\"supercategory\": \"none\", \"id\": cid, \"name\": cate}\n",
    "        json_dict[\"categories\"].append(cat)\n",
    "\n",
    "    \n",
    "    os.makedirs(os.path.dirname(json_file), exist_ok=True)\n",
    "    json_fp = open(json_file, \"w\")\n",
    "    json_str = json.dumps(json_dict)\n",
    "    json_fp.write(json_str)\n",
    "    json_fp.close()\n",
    "\n",
    "    \n",
    "    "
   ]
  },
  {
   "cell_type": "code",
   "execution_count": null,
   "metadata": {},
   "outputs": [],
   "source": [
    "csv_files = glob.glob(os.path.join('./test-data/csv', \"*.csv\"))\n",
    "json_file = \"./test-data/csv/output.json\"\n",
    "\n",
    "convert(csv_files, json_file)\n"
   ]
  }
 ],
 "metadata": {
  "kernelspec": {
   "display_name": "Python 3",
   "language": "python",
   "name": "python3"
  },
  "language_info": {
   "codemirror_mode": {
    "name": "ipython",
    "version": 3
   },
   "file_extension": ".py",
   "mimetype": "text/x-python",
   "name": "python",
   "nbconvert_exporter": "python",
   "pygments_lexer": "ipython3",
   "version": "3.7.7"
  }
 },
 "nbformat": 4,
 "nbformat_minor": 4
}
